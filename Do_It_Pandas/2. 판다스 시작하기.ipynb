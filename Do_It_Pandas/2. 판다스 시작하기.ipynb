{
  "nbformat": 4,
  "nbformat_minor": 0,
  "metadata": {
    "colab": {
      "name": "1. 판다스 시작하기.ipynb",
      "provenance": [],
      "private_outputs": true,
      "collapsed_sections": [],
      "authorship_tag": "ABX9TyM4s/QXmNu9LUz1AOiARNCI",
      "include_colab_link": true
    },
    "kernelspec": {
      "name": "python3",
      "display_name": "Python 3"
    }
  },
  "cells": [
    {
      "cell_type": "markdown",
      "metadata": {
        "id": "view-in-github",
        "colab_type": "text"
      },
      "source": [
        "<a href=\"https://colab.research.google.com/github/highpath/Python_study/blob/master/Do_It_Pandas/2.%20%ED%8C%90%EB%8B%A4%EC%8A%A4%20%EC%8B%9C%EC%9E%91%ED%95%98%EA%B8%B0.ipynb\" target=\"_parent\"><img src=\"https://colab.research.google.com/assets/colab-badge.svg\" alt=\"Open In Colab\"/></a>"
      ]
    },
    {
      "cell_type": "code",
      "metadata": {
        "id": "tlMzZ173Yu53",
        "colab_type": "code",
        "colab": {}
      },
      "source": [
        "from google.colab import drive\n",
        "drive.mount(\"/content/gdrive\")"
      ],
      "execution_count": null,
      "outputs": []
    },
    {
      "cell_type": "code",
      "metadata": {
        "id": "swrsSNrnY_Hi",
        "colab_type": "code",
        "colab": {}
      },
      "source": [
        "cd \"/content/gdrive/My Drive/Colab Notebooks/Python_study/Do_it_Pandas\""
      ],
      "execution_count": null,
      "outputs": []
    },
    {
      "cell_type": "markdown",
      "metadata": {
        "id": "C32K-282Yn8U",
        "colab_type": "text"
      },
      "source": [
        "# 1. 데이터 집합 불러오기"
      ]
    },
    {
      "cell_type": "code",
      "metadata": {
        "id": "2vtz5EEVYPri",
        "colab_type": "code",
        "colab": {}
      },
      "source": [
        "import pandas as pd\n",
        "\n",
        "train = pd.read_csv('titanic_train.csv')"
      ],
      "execution_count": null,
      "outputs": []
    },
    {
      "cell_type": "code",
      "metadata": {
        "id": "ulcz-oUZZuxU",
        "colab_type": "code",
        "colab": {}
      },
      "source": [
        "print(train.head())"
      ],
      "execution_count": null,
      "outputs": []
    },
    {
      "cell_type": "code",
      "metadata": {
        "id": "vKTYTANrZvlR",
        "colab_type": "code",
        "colab": {}
      },
      "source": [
        "print(type(train))\n",
        "print(train.shape)\n",
        "print(train.columns)"
      ],
      "execution_count": null,
      "outputs": []
    },
    {
      "cell_type": "code",
      "metadata": {
        "id": "qrppCD0NZ_1r",
        "colab_type": "code",
        "colab": {}
      },
      "source": [
        "print(train.dtypes) # 데이터프레임을 구성하는 값의 자료형"
      ],
      "execution_count": null,
      "outputs": []
    },
    {
      "cell_type": "code",
      "metadata": {
        "id": "gMQStF6KaN5V",
        "colab_type": "code",
        "colab": {}
      },
      "source": [
        "print(train.info())"
      ],
      "execution_count": null,
      "outputs": []
    },
    {
      "cell_type": "markdown",
      "metadata": {
        "id": "NLcPQQqMaWGa",
        "colab_type": "text"
      },
      "source": [
        "\n",
        "## 판다스 자료형 : 파이썬 자료형 : 설명\n",
        "- object : string : 문자열\n",
        "- int64 : int : 정수\n",
        "- float64 : float : 소수점을 가진 숫자\n",
        "- datetime64 : datetime"
      ]
    },
    {
      "cell_type": "markdown",
      "metadata": {
        "id": "25H64tUha7q2",
        "colab_type": "text"
      },
      "source": [
        "# 2. 데이터 추출하기 "
      ]
    },
    {
      "cell_type": "markdown",
      "metadata": {
        "id": "BMTfJwhCbdBA",
        "colab_type": "text"
      },
      "source": [
        "## 열 단위 데이터 추출하기"
      ]
    },
    {
      "cell_type": "code",
      "metadata": {
        "id": "Z5wfOEGT4Ioi",
        "colab_type": "code",
        "colab": {}
      },
      "source": [
        "Age_train = train['Age']\n",
        "print(Age_train.head())\n",
        "print(Age_train.tail())"
      ],
      "execution_count": null,
      "outputs": []
    },
    {
      "cell_type": "code",
      "metadata": {
        "id": "Iy9_sktA4jvn",
        "colab_type": "code",
        "colab": {}
      },
      "source": [
        "subset = train[['Pclass', 'Embarked']]\n",
        "print(subset.head())\n",
        "print(subset.tail())"
      ],
      "execution_count": null,
      "outputs": []
    },
    {
      "cell_type": "markdown",
      "metadata": {
        "id": "TzN_EFT-5T8e",
        "colab_type": "text"
      },
      "source": [
        "## 행 단위 데이터 추출하기"
      ]
    },
    {
      "cell_type": "markdown",
      "metadata": {
        "id": "5bJGcMnr6Owb",
        "colab_type": "text"
      },
      "source": [
        "loc : 인덱스 기준, iloc : 행 번호 기준"
      ]
    },
    {
      "cell_type": "code",
      "metadata": {
        "id": "fpDZZrfZ6jOe",
        "colab_type": "code",
        "colab": {}
      },
      "source": [
        "print(train.loc[0])\n",
        "print(train.loc[890])\n",
        "print(train.loc[[0, 89, 90]])"
      ],
      "execution_count": null,
      "outputs": []
    },
    {
      "cell_type": "code",
      "metadata": {
        "id": "HrpLEoxs6nZS",
        "colab_type": "code",
        "colab": {}
      },
      "source": [
        "print(train.iloc[-1])\n",
        "print(train.iloc[[1, 40, 80, 120]])"
      ],
      "execution_count": null,
      "outputs": []
    },
    {
      "cell_type": "markdown",
      "metadata": {
        "id": "ysERRqmR8KUW",
        "colab_type": "text"
      },
      "source": [
        "## 데이터 추출하기"
      ]
    },
    {
      "cell_type": "markdown",
      "metadata": {
        "id": "hu9edIju7ru8",
        "colab_type": "text"
      },
      "source": [
        "- `df.loc[[행],[열]], df.iloc[[행],[열]]`\n",
        "- 슬라이싱 구문 사용법 = 시작:끝:간격"
      ]
    },
    {
      "cell_type": "code",
      "metadata": {
        "id": "dEw9hqPe717a",
        "colab_type": "code",
        "colab": {}
      },
      "source": [
        "subset = train.loc[:,['Ticket', 'Parch']]\n",
        "print(subset.head())"
      ],
      "execution_count": null,
      "outputs": []
    },
    {
      "cell_type": "code",
      "metadata": {
        "id": "FcWWABX_8Aiy",
        "colab_type": "code",
        "colab": {}
      },
      "source": [
        "subset = train.iloc[:, [2,4,-1]]\n",
        "print(subset.head())"
      ],
      "execution_count": null,
      "outputs": []
    },
    {
      "cell_type": "code",
      "metadata": {
        "id": "zmUcjg7_lLVp",
        "colab_type": "code",
        "colab": {}
      },
      "source": [
        "print(train.loc[10:13:1])"
      ],
      "execution_count": null,
      "outputs": []
    },
    {
      "cell_type": "code",
      "metadata": {
        "id": "ffdc8cqh8V3v",
        "colab_type": "code",
        "colab": {}
      },
      "source": [
        "print(train.loc[10:13, ['Pclass', 'Fare']])"
      ],
      "execution_count": null,
      "outputs": []
    },
    {
      "cell_type": "markdown",
      "metadata": {
        "id": "chqbXBHllzsM",
        "colab_type": "text"
      },
      "source": [
        "## 기초적인 통계 계산하기\n"
      ]
    },
    {
      "cell_type": "markdown",
      "metadata": {
        "id": "cRZvZUS-ojKN",
        "colab_type": "text"
      },
      "source": [
        ""
      ]
    },
    {
      "cell_type": "code",
      "metadata": {
        "id": "79PZBgPIoJFl",
        "colab_type": "code",
        "colab": {}
      },
      "source": [
        "grouped_Pclass_train = train.groupby('Pclass')\n",
        "print(type(grouped_Pclass_train))\n",
        "print(grouped_Pclass_train)"
      ],
      "execution_count": null,
      "outputs": []
    },
    {
      "cell_type": "code",
      "metadata": {
        "id": "hpT5bT8EoQoU",
        "colab_type": "code",
        "colab": {}
      },
      "source": [
        "grouped_Pclass_train_Fare = grouped_Pclass_train['Fare']\n",
        "mean_Fare_by_Pclass = grouped_Pclass_train_Fare.mean()\n",
        "print(mean_Fare_by_Pclass)"
      ],
      "execution_count": null,
      "outputs": []
    },
    {
      "cell_type": "code",
      "metadata": {
        "id": "nD6m3qO2p04m",
        "colab_type": "code",
        "colab": {}
      },
      "source": [
        "print(train.groupby('Pclass').nunique()) # 데이터 개수 세기"
      ],
      "execution_count": null,
      "outputs": []
    },
    {
      "cell_type": "markdown",
      "metadata": {
        "id": "N_-uiTwaqkGS",
        "colab_type": "text"
      },
      "source": [
        "## 그래프 그리기"
      ]
    },
    {
      "cell_type": "code",
      "metadata": {
        "id": "A5tZRFP5q_iz",
        "colab_type": "code",
        "colab": {}
      },
      "source": [
        "%matplotlib inline\n",
        "import matplotlib.pyplot as plt"
      ],
      "execution_count": null,
      "outputs": []
    },
    {
      "cell_type": "code",
      "metadata": {
        "id": "7e_VXxolrEtH",
        "colab_type": "code",
        "colab": {}
      },
      "source": [
        "print(train.columns)"
      ],
      "execution_count": null,
      "outputs": []
    },
    {
      "cell_type": "code",
      "metadata": {
        "id": "-LbdT03hrQYE",
        "colab_type": "code",
        "colab": {}
      },
      "source": [
        "mean_SibSp_by_Age = train.groupby('Age')['SibSp'].mean()\n",
        "mean_SibSp_by_Age.plot()"
      ],
      "execution_count": null,
      "outputs": []
    },
    {
      "cell_type": "code",
      "metadata": {
        "id": "uxL8F_Cdrrst",
        "colab_type": "code",
        "colab": {}
      },
      "source": [
        ""
      ],
      "execution_count": null,
      "outputs": []
    }
  ]
}