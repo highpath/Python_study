{
  "nbformat": 4,
  "nbformat_minor": 0,
  "metadata": {
    "colab": {
      "name": "Level11_재귀.ipynb",
      "provenance": [],
      "private_outputs": true,
      "collapsed_sections": [],
      "authorship_tag": "ABX9TyMgITsf4zsegJo/OnOJ4T0X",
      "include_colab_link": true
    },
    "kernelspec": {
      "name": "python3",
      "display_name": "Python 3"
    }
  },
  "cells": [
    {
      "cell_type": "markdown",
      "metadata": {
        "id": "view-in-github",
        "colab_type": "text"
      },
      "source": [
        "<a href=\"https://colab.research.google.com/github/highpath/Python_study/blob/master/Baekjoon/Level11_%EC%9E%AC%EA%B7%80.ipynb\" target=\"_parent\"><img src=\"https://colab.research.google.com/assets/colab-badge.svg\" alt=\"Open In Colab\"/></a>"
      ]
    },
    {
      "cell_type": "markdown",
      "metadata": {
        "id": "9gLOI3sq1rDf",
        "colab_type": "text"
      },
      "source": [
        "# 재귀(Recursion)\n",
        "\n",
        "컴퓨터 과학에서, 재귀는 해결 방법이 같은 문제의 작은 경우에 의존하는 문제를 푸는 방법이다. 이런 문제는 iteration으로 해결될 수 있지만 이는 프로그래밍 할 때 작은 경우들을 설정해주어야 한다. \n",
        "- Iteration: 반복문"
      ]
    },
    {
      "cell_type": "markdown",
      "metadata": {
        "id": "QH5ESc3s1U1k",
        "colab_type": "text"
      },
      "source": [
        "## 10872. 0보다 크거나 같은 정수 N이 주어진다. 이때, N!을 출력하는 프로그램을 작성하시오.\n",
        "\n",
        "```\n",
        "#공\n",
        "num = int(input())\n",
        "fact = 1\n",
        "\n",
        "for i in range(num):\n",
        "    fact *= i+1\n",
        "\n",
        "print(fact)\n",
        "```"
      ]
    },
    {
      "cell_type": "markdown",
      "metadata": {
        "id": "cgO7XSEb6z4a",
        "colab_type": "text"
      },
      "source": [
        "## 10870. n이 주어졌을 때, n번째 피보나치 수를 구하는 프로그램을 작성하시오.\n",
        "```\n",
        "#공\n",
        "def f(x):\n",
        "    if x==0:\n",
        "        num = 0\n",
        "    elif x==1:\n",
        "        num = 1\n",
        "    else:\n",
        "        num = f(x-1) + f(x-2)\n",
        "    return num\n",
        "\n",
        "n = int(input())\n",
        "print(f(n))\n",
        "```"
      ]
    },
    {
      "cell_type": "markdown",
      "metadata": {
        "id": "dSioJ9Om7ICi",
        "colab_type": "text"
      },
      "source": [
        "## 2447. 첫째 줄부터 N번째 줄까지 별을 출력한다.\n",
        "```\n",
        "#공\n",
        "def stars(n):\n",
        "    if n==3:\n",
        "        result = ['***','* *','***']\n",
        "    else:\n",
        "        t = n/3\n",
        "        result=list(map(lambda x:3*x, stars(t)))+list(map(lambda x:x+x.replace('*', ' ')+x, stars(t)))+list(map(lambda x:3*x, stars(t)))\n",
        "    return result\n",
        "\n",
        "num = int(input())\n",
        "print(*stars(num), sep='\\n')\n",
        "```"
      ]
    },
    {
      "cell_type": "markdown",
      "metadata": {
        "id": "LnOnI0WJBhUn",
        "colab_type": "text"
      },
      "source": [
        "## 11729. 하노이 탑 이동 순서\n",
        "\n",
        "```\n",
        "#공\n",
        "def hanoi(n,start,other,goal):\n",
        "    if n==1:\n",
        "        result = [(start,goal)]\n",
        "    else:\n",
        "        result = hanoi(n-1,start,goal,other) + hanoi(1,start,other,goal) + hanoi(n-1,other,start,goal)\n",
        "    return result\n",
        "\n",
        "num = int(input())\n",
        "c = hanoi(num,1,2,3)\n",
        "print(len(c))\n",
        "for i in c:\n",
        "    print(*i)\n",
        "```"
      ]
    }
  ]
}