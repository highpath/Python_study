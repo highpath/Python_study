{
  "nbformat": 4,
  "nbformat_minor": 0,
  "metadata": {
    "colab": {
      "name": "Level8_문자열.ipynb",
      "provenance": [],
      "private_outputs": true,
      "collapsed_sections": [],
      "authorship_tag": "ABX9TyP0DQzh7TynmldAZdPEW9Xn",
      "include_colab_link": true
    },
    "kernelspec": {
      "name": "python3",
      "display_name": "Python 3"
    }
  },
  "cells": [
    {
      "cell_type": "markdown",
      "metadata": {
        "id": "view-in-github",
        "colab_type": "text"
      },
      "source": [
        "<a href=\"https://colab.research.google.com/github/highpath/Python_study/blob/master/Baekjoon/Level8_%EB%AC%B8%EC%9E%90%EC%97%B4.ipynb\" target=\"_parent\"><img src=\"https://colab.research.google.com/assets/colab-badge.svg\" alt=\"Open In Colab\"/></a>"
      ]
    },
    {
      "cell_type": "markdown",
      "metadata": {
        "id": "erKOVkl6QcUN",
        "colab_type": "text"
      },
      "source": [
        "## 11654. 알파벳 소문자, 대문자, 숫자 0-9중 하나가 주어졌을 때, 주어진 글자의 아스키 코드값을 출력하는 프로그램을 작성하시오.\n",
        "\n",
        "```\n",
        "#공\n",
        "a = input()\n",
        "print(ord(a))\n",
        "```\n",
        "\n",
        "### ord() function\n",
        "- Unicode 를 표현하는 정수값을 반환한다"
      ]
    },
    {
      "cell_type": "markdown",
      "metadata": {
        "id": "cO6DuNWZRMmY",
        "colab_type": "text"
      },
      "source": [
        "## 11720. N개의 숫자가 공백 없이 쓰여있다. 이 숫자를 모두 합해서 출력하는 프로그램을 작성하시오.\n",
        "\n",
        "```\n",
        "#공\n",
        "a = int(input())\n",
        "b = int(input())\n",
        "print(sum([int(elm) for elm in str(b)]))\n",
        "```"
      ]
    },
    {
      "cell_type": "markdown",
      "metadata": {
        "id": "N3dv-If8VMb7",
        "colab_type": "text"
      },
      "source": [
        "## 10809. 알파벳 소문자로만 이루어진 단어 S가 주어진다. 각각의 알파벳에 대해서, 단어에 포함되어 있는 경우에는 처음 등장하는 위치를, 포함되어 있지 않은 경우에는 -1을 출력하는 프로그램을 작성하시오.\n",
        "\n",
        "```\n",
        "#공\n",
        "a = [elm for elm in input()]\n",
        "b = []\n",
        "\n",
        "for i in range(97, 123):\n",
        "    if chr(i) not in a:\n",
        "        b.append(-1)\n",
        "    else:\n",
        "        b.append(a.index(chr(i)))\n",
        "\n",
        "print(*b)\n",
        "```"
      ]
    },
    {
      "cell_type": "markdown",
      "metadata": {
        "id": "1BkivcIfY2sj",
        "colab_type": "text"
      },
      "source": [
        "## 2675. 문자열 S를 입력받은 후에, 각 문자를 R번 반복해 새 문자열 P를 만든 후 출력하는 프로그램을 작성하시오.\n",
        "\n",
        "```\n",
        "#공\n",
        "import sys\n",
        "\n",
        "while True:\n",
        "    input_data = sys.stdin.readline()\n",
        "    if input_data == '':\n",
        "        break\n",
        "    elif len(input_data.split())==1:\n",
        "        pass\n",
        "    else:\n",
        "        number, string = input_data.split()\n",
        "        string=[elm for elm in string]\n",
        "        result= list(map(lambda x: x*int(number), string))\n",
        "        print(*result, sep='')\n",
        "```"
      ]
    },
    {
      "cell_type": "markdown",
      "metadata": {
        "id": "c0c181PlZLM3",
        "colab_type": "text"
      },
      "source": [
        "## 1157. 알파벳 대소문자로 된 단어가 주어지면, 이 단어에서 가장 많이 사용된 알파벳이 무엇인지 알아내는 프로그램을 작성하시오.\n",
        "```\n",
        "#공\n",
        "def count_alphabet(words):\n",
        "    d = {}\n",
        "    for alphabet in set(words):\n",
        "        d[alphabet] = words.count(alphabet)\n",
        "    return d\n",
        "\n",
        "def find_most_freq(d):\n",
        "    li = []\n",
        "    for key, value in d.items():\n",
        "        if max(d.values()) == value:\n",
        "            li.append(key)\n",
        "    return li\n",
        "\n",
        "input_data = input().upper()\n",
        "my_dict = count_alphabet(input_data)\n",
        "my_list = find_most_freq(my_dict)\n",
        "\n",
        "if len(my_list)==1:\n",
        "    print(my_list[0])\n",
        "else:\n",
        "    print(\"?\")\n",
        "```"
      ]
    },
    {
      "cell_type": "markdown",
      "metadata": {
        "id": "UA6FeO8zP9BT",
        "colab_type": "text"
      },
      "source": [
        "## 1152. 영어 대소문자와 띄어쓰기만으로 이루어진 문자열이 주어진다. 이 문자열에는 몇 개의 단어가 있을까? 이를 구하는 프로그램을 작성하시오.\n",
        "\n",
        "```\n",
        "#공\n",
        "input_data = input().split()\n",
        "print(len(input_data))\n",
        "```"
      ]
    },
    {
      "cell_type": "markdown",
      "metadata": {
        "id": "qRH3qTmbUATk",
        "colab_type": "text"
      },
      "source": [
        "## 2908. 두 수가 주어졌을 때, 상수의 대답을 출력하는 프로그램을 작성하시오.\n",
        "상수는 수를 다른 사람과 다르게 거꾸로 읽는다. 상근이는 세 자리 수 두 개를 칠판에 써주었다. 그 다음에 크기가 큰 수를 말해보라고 했다.\n",
        "\n",
        "```\n",
        "#공\n",
        "a = list(map(int,input().split()))\n",
        "\n",
        "def sangsu(num):\n",
        "    a = [int(elm) for elm in str(num)]\n",
        "    result = a[0] + a[1]*10 + a[2]*100\n",
        "    return result\n",
        "\n",
        "a = map(lambda x: sangsu(x), a)\n",
        "print(max(a))\n",
        "```"
      ]
    },
    {
      "cell_type": "markdown",
      "metadata": {
        "id": "OAOeAOifv_Fa",
        "colab_type": "text"
      },
      "source": [
        "## 5622. 할머니가 외운 단어가 주어졌을 때, 이 전화를 걸기 위해서 필요한 시간을 구하는 프로그램을 작성하시오.\n",
        "```\n",
        "#공\n",
        "dial = {\"ABC\":2, \"DEF\":3, \"GHI\":4, \"JKL\":5, \"MNO\":6, \"PQRS\":7, \"TUV\":8, \"WXYZ\":9}\n",
        "\n",
        "def wordtonum(word):\n",
        "    alphabet = [elm for elm in word]\n",
        "    for i in range(len(alphabet)):\n",
        "        for key, value in dial.items():\n",
        "            if alphabet[i] in key:\n",
        "                alphabet[i] = value\n",
        "                break\n",
        "    return alphabet\n",
        "\n",
        "input_data = input()\n",
        "\n",
        "numbers = wordtonum(input_data)\n",
        "\n",
        "print(sum(numbers)+len(numbers))\n",
        "```"
      ]
    },
    {
      "cell_type": "markdown",
      "metadata": {
        "id": "fYJUE-Ko14Eq",
        "colab_type": "text"
      },
      "source": [
        "## 2941. 단어가 주어졌을 때, 몇 개의 크로아티아 알파벳으로 이루어져 있는지 출력한다.\n",
        "\n",
        "```\n",
        "#공\n",
        "a = input()\n",
        "croatia = [\"c=\", \"c-\", \"dz=\", \"d-\", \"lj\", \"nj\", \"s=\", \"z=\"]\n",
        "for i in croatia:\n",
        "    a = a.replace(i, \"1\")\n",
        "b = [elm for elm in str(a)]\n",
        "print(len(b))\n",
        "```"
      ]
    },
    {
      "cell_type": "markdown",
      "metadata": {
        "id": "Nq8EQ_w30xzL",
        "colab_type": "text"
      },
      "source": [
        "## 1316. 단어 N개를 입력으로 받아 그룹 단어의 개수를 출력하는 프로그램을 작성하시오.\n",
        "```\n",
        "#공\n",
        "import sys\n",
        "def check_groupword(word):\n",
        "    a = ''\n",
        "    b = []\n",
        "    for i in word:\n",
        "        if a != i:\n",
        "            if i in b:\n",
        "                return False\n",
        "            else:\n",
        "                b.append(i)\n",
        "        a = i\n",
        "    return True\n",
        "\n",
        "n = int(input())\n",
        "output = 0\n",
        "for i in range(n):\n",
        "    input_data = sys.stdin.readline()\n",
        "    if check_groupword(input_data):\n",
        "        output = output + 1\n",
        "\n",
        "print(output)\n",
        "```"
      ]
    }
  ]
}