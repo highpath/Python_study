{
  "nbformat": 4,
  "nbformat_minor": 0,
  "metadata": {
    "colab": {
      "name": "Level7_함수.ipynb",
      "provenance": [],
      "private_outputs": true,
      "authorship_tag": "ABX9TyOMTxYHg9bpu3sJhbZPuw0i",
      "include_colab_link": true
    },
    "kernelspec": {
      "name": "python3",
      "display_name": "Python 3"
    }
  },
  "cells": [
    {
      "cell_type": "markdown",
      "metadata": {
        "id": "view-in-github",
        "colab_type": "text"
      },
      "source": [
        "<a href=\"https://colab.research.google.com/github/highpath/Python_study/blob/master/Baekjoon/Level7_%ED%95%A8%EC%88%98.ipynb\" target=\"_parent\"><img src=\"https://colab.research.google.com/assets/colab-badge.svg\" alt=\"Open In Colab\"/></a>"
      ]
    },
    {
      "cell_type": "markdown",
      "metadata": {
        "id": "APBDNi745mmx",
        "colab_type": "text"
      },
      "source": [
        "## 15596. 정수 n개가 주어졌을 때, n개의 합을 구하는 함수를 작성하시오.\n",
        "```\n",
        "#공\n",
        "def solve(a):\n",
        "    ans = sum(a)\n",
        "    return ans\n",
        "```"
      ]
    },
    {
      "cell_type": "markdown",
      "metadata": {
        "id": "PTvxNel5556N",
        "colab_type": "text"
      },
      "source": [
        "## 4673. 10000보다 작거나 같은 셀프 넘버를 한 줄에 하나씩 출력하는 프로그램을 작성하시오.\n",
        "양의 정수 n에 대해서 d(n)을 n과 n의 각 자리수를 더하는 함수라고 정의하자. n을 d(n)의 생성자라고 한다. 생성자가 없는 숫자를 셀프 넘버라고 한다.\n",
        "\n",
        "```\n",
        "#공\n",
        "def d(n):\n",
        "    num_n = [int(elm) for elm in str(n)]\n",
        "    result = n + sum(num_n)\n",
        "    return result\n",
        "\n",
        "N_list = list(range(1, 10001))\n",
        "i=0\n",
        "\n",
        "while (i+1)<=len(N_list):\n",
        "    a=N_list[i]\n",
        "    print(a)\n",
        "    const = d(a)\n",
        "    while const in N_list:\n",
        "        N_list.remove(const)\n",
        "        const = d(const)\n",
        "    i=i+1\n",
        "```"
      ]
    },
    {
      "cell_type": "markdown",
      "metadata": {
        "id": "jlqwgYqG6T4Z",
        "colab_type": "text"
      },
      "source": [
        "## 1065. N이 주어졌을 때, 1보다 크거나 같고, N보다 작거나 같은 한수의 개수를 출력하는 프로그램을 작성하시오.\n",
        "어떤 양의 정수 X의 각 자리가 등차수열을 이룬다면, 그 수를 한수라고 한다.\n",
        "\n",
        "```\n",
        "#공\n",
        "def han_3(limit):\n",
        "    result=0\n",
        "    for i in range(100, limit+1):\n",
        "        a = [int(elm) for elm in str(i)]\n",
        "        if 2*a[1]==a[0]+a[2]:\n",
        "            result=result+1\n",
        "    return result\n",
        "\n",
        "num = int(input())\n",
        "\n",
        "if num<100:\n",
        "    print(num)\n",
        "else:\n",
        "    print(99 + han_3(num))\n",
        "```"
      ]
    },
    {
      "cell_type": "code",
      "metadata": {
        "id": "Wa3hQOZ66mWL",
        "colab_type": "code",
        "colab": {}
      },
      "source": [
        ""
      ],
      "execution_count": null,
      "outputs": []
    }
  ]
}