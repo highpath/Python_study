{
  "nbformat": 4,
  "nbformat_minor": 0,
  "metadata": {
    "colab": {
      "name": "Level4_while문.ipynb",
      "provenance": [],
      "private_outputs": true,
      "collapsed_sections": [],
      "authorship_tag": "ABX9TyPxH+yby1L2WYfmUSjwtfXE",
      "include_colab_link": true
    },
    "kernelspec": {
      "name": "python3",
      "display_name": "Python 3"
    }
  },
  "cells": [
    {
      "cell_type": "markdown",
      "metadata": {
        "id": "view-in-github",
        "colab_type": "text"
      },
      "source": [
        "<a href=\"https://colab.research.google.com/github/highpath/Python_study/blob/master/Baekjoon/Level4_while%EB%AC%B8.ipynb\" target=\"_parent\"><img src=\"https://colab.research.google.com/assets/colab-badge.svg\" alt=\"Open In Colab\"/></a>"
      ]
    },
    {
      "cell_type": "markdown",
      "metadata": {
        "id": "0ciwifFPaof6",
        "colab_type": "text"
      },
      "source": [
        "## 10952. 두 정수 A와 B를 입력받은 다음, A+B를 출력하는 프로그램을 작성하시오.\n",
        "```\n",
        "#공\n",
        "import sys\n",
        "\n",
        "while True:\n",
        "    a,b = map(int, sys.stdin.readline().split())\n",
        "    if a==0 and b==0:\n",
        "        break\n",
        "    print(a+b)\n",
        "```"
      ]
    },
    {
      "cell_type": "markdown",
      "metadata": {
        "id": "EWmAUgIBcAD9",
        "colab_type": "text"
      },
      "source": [
        "## 10951. 두 정수 A와 B를 입력받은 다음, A+B를 출력하는 프로그램을 작성하시오.\n",
        "\n",
        "```\n",
        "#공\n",
        "import sys\n",
        "\n",
        "while True:\n",
        "    input_data = sys.stdin.readline()\n",
        "    if input_data == '':\n",
        "        break\n",
        "    else:\n",
        "        print(sum(map(int, input_data.split())))\n",
        "```\n"
      ]
    },
    {
      "cell_type": "markdown",
      "metadata": {
        "id": "BhtjVGXNaxUz",
        "colab_type": "text"
      },
      "source": [
        "## 1110. N이 주어졌을 때, N의 사이클의 길이를 구하는 프로그램을 작성하시오.\n",
        "\n",
        "0보다 크거나 같고, 99보다 작거나 같은 정수가 주어질 때 다음과 같은 연산을 할 수 있다. 먼저 주어진 수가 10보다 작다면 앞에 0을 붙여 두 자리 수로 만들고, 각 자리의 숫자를 더한다. 그 다음, 주어진 수의 가장 오른쪽 자리 수와 앞에서 구한 합의 가장 오른쪽 자리 수를 이어 붙이면 새로운 수를 만들 수 있다.\n",
        "\n",
        "```\n",
        "#공\n",
        "a = [int(elm) for elm in input()]\n",
        "if len(a) == 1:\n",
        "    a = [0, a[0]]\n",
        "num = a\n",
        "i=0\n",
        "\n",
        "while True:\n",
        "    new_l = num[1]\n",
        "    if sum(num)<10:\n",
        "        new_r = sum(num)\n",
        "    else:\n",
        "        new_r = [int(elm) for elm in str(sum(num))][1]\n",
        "    num = [new_l, new_r]\n",
        "    i = i + 1\n",
        "    if a == num:\n",
        "        break\n",
        "print(i)\n",
        "```"
      ]
    }
  ]
}