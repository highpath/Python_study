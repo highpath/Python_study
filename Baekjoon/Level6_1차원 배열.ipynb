{
  "nbformat": 4,
  "nbformat_minor": 0,
  "metadata": {
    "colab": {
      "name": "Level6_1차원 배열.ipynb",
      "provenance": [],
      "private_outputs": true,
      "collapsed_sections": [],
      "authorship_tag": "ABX9TyOUXi7dATxzNfBJ1CAH5KmF",
      "include_colab_link": true
    },
    "kernelspec": {
      "name": "python3",
      "display_name": "Python 3"
    }
  },
  "cells": [
    {
      "cell_type": "markdown",
      "metadata": {
        "id": "view-in-github",
        "colab_type": "text"
      },
      "source": [
        "<a href=\"https://colab.research.google.com/github/highpath/Python_study/blob/master/Baekjoon/Level6_1%EC%B0%A8%EC%9B%90%20%EB%B0%B0%EC%97%B4.ipynb\" target=\"_parent\"><img src=\"https://colab.research.google.com/assets/colab-badge.svg\" alt=\"Open In Colab\"/></a>"
      ]
    },
    {
      "cell_type": "markdown",
      "metadata": {
        "id": "FKeqytav_ENg",
        "colab_type": "text"
      },
      "source": [
        "## 10818. 첫째 줄에 주어진 정수 N개의 최솟값과 최댓값을 공백으로 구분해 출력한다.\n",
        "\n",
        "```\n",
        "#공\n",
        "import sys\n",
        "\n",
        "sys.stdin.readline()\n",
        "a = list(map(int, sys.stdin.readline().split()))\n",
        "print(min(a), max(a))\n",
        "```"
      ]
    },
    {
      "cell_type": "markdown",
      "metadata": {
        "id": "_-HP8IezBJiA",
        "colab_type": "text"
      },
      "source": [
        "## 2562. 9개의 서로 다른 자연수가 주어질 때, 이들 중 최댓값을 찾고 그 최댓값이 몇 번째 수인지를 구하는 프로그램을 작성하시오.\n",
        "```\n",
        "#공\n",
        "import sys\n",
        "a=[]\n",
        "\n",
        "while True:\n",
        "    b = sys.stdin.readline()\n",
        "    if b == '':\n",
        "        break\n",
        "    else:\n",
        "        a.append(int(b))\n",
        "\n",
        "print(max(a))\n",
        "print(a.index(max(a))+1)\n",
        "```"
      ]
    },
    {
      "cell_type": "markdown",
      "metadata": {
        "id": "dHD4jdNDMEJm",
        "colab_type": "text"
      },
      "source": [
        "## 2577. 세 개의 자연수 A, B, C가 주어질 때 A×B×C를 계산한 결과에 0부터 9까지 각각의 숫자가 몇 번씩 쓰였는지를 구하는 프로그램을 작성하시오.\n",
        "```\n",
        "#공\n",
        "import sys\n",
        "mul = 1\n",
        "\n",
        "while True:\n",
        "    readline = sys.stdin.readline()\n",
        "    if readline == '':\n",
        "        break\n",
        "    else:\n",
        "        mul = mul * int(readline)\n",
        "\n",
        "numbers = [int(elm) for elm in str(mul)]\n",
        "for i in range(10):\n",
        "    print(numbers.count(i))\n",
        "```"
      ]
    },
    {
      "cell_type": "markdown",
      "metadata": {
        "id": "DP0mJ7ANSEC4",
        "colab_type": "text"
      },
      "source": [
        "## 3052. 수 10개를 입력받은 뒤, 이를 42로 나눈 나머지를 구한다. 그 다음 서로 다른 값이 몇 개 있는지 출력하는 프로그램을 작성하시오.\n",
        "```\n",
        "#공\n",
        "import sys\n",
        "a = []\n",
        "\n",
        "while True:\n",
        "    readline = sys.stdin.readline()\n",
        "    if readline == '':\n",
        "        break\n",
        "    num = int(readline)%42\n",
        "    if num not in a:\n",
        "        a.append(num)\n",
        "\n",
        "print(len(a))\n",
        "```"
      ]
    },
    {
      "cell_type": "markdown",
      "metadata": {
        "id": "mEh0Zrdluz0a",
        "colab_type": "text"
      },
      "source": [
        "## 1546. 세준이의 성적을 아래의 방법대로 새로 계산했을 때, 새로운 평균을 구하는 프로그램을 작성하시오.\n",
        "세준이는 기말고사를 망쳤다. 세준이는 점수를 조작해서 집에 가져가기로 했다. 일단 세준이는 자기 점수 중에 최댓값을 골랐다. 이 값을 M이라고 한다. 그리고 나서 모든 점수를 점수/M*100으로 고쳤다.\n",
        "```\n",
        "#공\n",
        "num = int(input())\n",
        "scores = list(map(int, input().split()))\n",
        "max_score = max(scores)\n",
        "new_scores = list(map(lambda x: x/max_score*100, scores))\n",
        "print(sum(new_scores)/num)\n",
        "```\n",
        "\n",
        "### Lambda\n",
        "- 사용법 `lambda arguments : expression`"
      ]
    },
    {
      "cell_type": "markdown",
      "metadata": {
        "id": "l29vgEcMxewJ",
        "colab_type": "text"
      },
      "source": [
        "## 8958. OX퀴즈의 결과가 주어졌을 때, 점수를 구하는 프로그램을 작성하시오.\n",
        "\n",
        "O는 문제를 맞은 것이고, X는 문제를 틀린 것이다. 문제를 맞은 경우 그 문제의 점수는 그 문제까지 연속된 O의 개수가 된다.\n",
        "```\n",
        "#공\n",
        "import sys\n",
        "\n",
        "num = int(input())\n",
        "for i in range(num):\n",
        "    a = [elm for elm in sys.stdin.readline()]\n",
        "    score = 0\n",
        "    total_score = 0\n",
        "    for j in range(len(a)):\n",
        "        if a[j] =='O':\n",
        "            score = score + 1\n",
        "            total_score = total_score + score\n",
        "        else:\n",
        "            score = 0\n",
        "    print(total_score)\n",
        "```"
      ]
    },
    {
      "cell_type": "markdown",
      "metadata": {
        "id": "XplrkWUOzRmR",
        "colab_type": "text"
      },
      "source": [
        "## 4344. 각 케이스마다 한 줄씩 평균을 넘는 학생들의 비율을 반올림하여 소수점 셋째 자리까지 출력한다.\n",
        "```\n",
        "#공\n",
        "import sys\n",
        "\n",
        "num = int(input())\n",
        "for i in range(num):\n",
        "    scores = list(map(int, sys.stdin.readline().split()))\n",
        "    num_students = scores[0]\n",
        "    avg = sum(scores[1:])/num_students\n",
        "    num_winner=0\n",
        "    for j in range(num_students):\n",
        "        if scores[j+1]>avg:\n",
        "            num_winner = num_winner + 1\n",
        "    print(\"{:.3f}%\".format(round(num_winner/num_students*100,3)))\n",
        "```\n",
        "\n",
        "### Python String format() Method\n",
        "- [파이썬 포매팅](https://www.w3schools.com/python/ref_string_format.asp)"
      ]
    },
    {
      "cell_type": "code",
      "metadata": {
        "id": "1MH1aIM5vvht",
        "colab_type": "code",
        "colab": {}
      },
      "source": [
        ""
      ],
      "execution_count": null,
      "outputs": []
    }
  ]
}